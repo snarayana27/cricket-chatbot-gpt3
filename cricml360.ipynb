{
 "cells": [
  {
   "cell_type": "code",
   "execution_count": null,
   "id": "7aed011b",
   "metadata": {},
   "outputs": [
    {
     "name": "stdout",
     "output_type": "stream",
     "text": [
      "Classifier accuracy: 0.83\n",
      "Welcome to the Cricket ChatGPT chatbot! Type 'quit' to exit.\n"
     ]
    }
   ],
   "source": [
    "import openai\n",
    "import numpy as np\n",
    "import pandas as pd\n",
    "from sklearn.model_selection import train_test_split\n",
    "from sklearn.feature_extraction.text import CountVectorizer\n",
    "from sklearn.feature_extraction.text import TfidfTransformer\n",
    "from sklearn.naive_bayes import MultinomialNB\n",
    "from sklearn.pipeline import Pipeline\n",
    "from sklearn.metrics import classification_report, accuracy_score\n",
    "\n",
    "# Set your OpenAI API key\n",
    "openai.api_key = \"YOUR API KEY\"\n",
    "\n",
    "def train_classifier():\n",
    "    # Load your labeled dataset\n",
    "    data = pd.read_csv(r\"PATH TO YOUR DATASET\")\n",
    "\n",
    "    # Split the dataset into training and validation sets\n",
    "    X_train, X_val, y_train, y_val = train_test_split(data[\"text\"], data[\"label\"], test_size=0.2, random_state=42)\n",
    "\n",
    "    # Define the pipeline for the classifier\n",
    "    pipeline = Pipeline([\n",
    "        ('vectorizer', CountVectorizer()),\n",
    "        ('classifier', MultinomialNB()),\n",
    "    ])\n",
    "\n",
    "    # Train the classifier\n",
    "    pipeline.fit(X_train, y_train)\n",
    "\n",
    "    # Evaluate the classifier on the validation set\n",
    "    y_pred = pipeline.predict(X_val)\n",
    "    accuracy = accuracy_score(y_val, y_pred)\n",
    "    print(f\"Classifier accuracy: {accuracy:.2f}\")\n",
    "\n",
    "    return pipeline\n",
    "\n",
    "# Train the classifier and store the trained model\n",
    "classifier = train_classifier()\n",
    "\n",
    "def classify_text(text):\n",
    "    return classifier.predict([text])[0]\n",
    "\n",
    "def chat_gpt(prompt, tokens=100, temperature=0.7):\n",
    "    response = openai.Completion.create(\n",
    "        engine=\"text-davinci-002\",\n",
    "        prompt=prompt,\n",
    "        max_tokens=tokens,\n",
    "        n=1,\n",
    "        stop=None,\n",
    "        temperature=temperature,\n",
    "        top_p=1,\n",
    "        frequency_penalty=0,\n",
    "        presence_penalty=0,\n",
    "    )\n",
    "\n",
    "    message = response.choices[0].text.strip()\n",
    "    return message\n",
    "\n",
    "def run_chatbot():\n",
    "    print(\"Welcome to the Cricket ChatGPT chatbot! Type 'quit' to exit.\")\n",
    "    user_input = \"\"\n",
    "\n",
    "    while user_input.lower() != \"quit\":\n",
    "        user_input = input(\"You: \")\n",
    "        if user_input.lower() != \"quit\":\n",
    "            classification = classify_text(user_input)\n",
    "            if classification == 'cricket':\n",
    "                modified_user_input = f\"In the context of cricket, {user_input}\"\n",
    "                response = chat_gpt(modified_user_input)\n",
    "                print(\"Chatbot:\", response)\n",
    "            else:\n",
    "                print(\"Chatbot: Sorry, I can only answer questions related to cricket.\")\n",
    "\n",
    "if __name__ == \"__main__\":\n",
    "    run_chatbot()\n"
   ]
  },
  {
   "cell_type": "code",
   "execution_count": null,
   "id": "aecc6877",
   "metadata": {},
   "outputs": [],
   "source": []
  }
 ],
 "metadata": {
  "kernelspec": {
   "display_name": "Python 3 (ipykernel)",
   "language": "python",
   "name": "python3"
  },
  "language_info": {
   "codemirror_mode": {
    "name": "ipython",
    "version": 3
   },
   "file_extension": ".py",
   "mimetype": "text/x-python",
   "name": "python",
   "nbconvert_exporter": "python",
   "pygments_lexer": "ipython3",
   "version": "3.9.12"
  }
 },
 "nbformat": 4,
 "nbformat_minor": 5
}
